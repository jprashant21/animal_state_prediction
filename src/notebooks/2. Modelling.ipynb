{
 "cells": [
  {
   "cell_type": "code",
   "execution_count": 11,
   "metadata": {},
   "outputs": [
    {
     "data": {
      "text/html": [
       "<style>.container { width:90% !important; }</style>"
      ],
      "text/plain": [
       "<IPython.core.display.HTML object>"
      ]
     },
     "metadata": {},
     "output_type": "display_data"
    }
   ],
   "source": [
    "import os,sys\n",
    "import pandas as pd\n",
    "import datetime\n",
    "import seaborn as sns\n",
    "import matplotlib.pyplot as plt\n",
    "import glob as glob\n",
    "import numpy as np\n",
    "import warnings\n",
    "from scipy.stats import ttest_ind,f_oneway\n",
    "\n",
    "from sklearn.feature_selection import SelectKBest\n",
    "from sklearn.feature_selection import chi2\n",
    "from plot_functions import plot_count, plot_box, plot_box_category, plot_regplot, barplot_count_multicat, \\\n",
    "barplot_pct_multicat, plot_confusion_matrix\n",
    "from nominal import *\n",
    "from sklearn import preprocessing\n",
    "\n",
    "\n",
    "%reload_ext autoreload\n",
    "%autoreload 2\n",
    "%matplotlib inline\n",
    "pd.set_option('display.max_columns', None)\n",
    "pd.set_option('display.max_rows', 100)\n",
    "\n",
    "warnings.filterwarnings(action='once')\n",
    "from IPython.core.display import display, HTML\n",
    "display(HTML(\"<style>.container { width:90% !important; }</style>\"))"
   ]
  },
  {
   "cell_type": "code",
   "execution_count": 2,
   "metadata": {},
   "outputs": [
    {
     "name": "stdout",
     "output_type": "stream",
     "text": [
      "E:\\Projects\\ZS_Hackerrank_Feb2020\\Animal State Prediction - dataset\n"
     ]
    }
   ],
   "source": [
    "data_path = os.path.join(os.getcwd(),\"Animal State Prediction - dataset\")\n",
    "os.chdir(data_path)\n",
    "print(data_path)"
   ]
  },
  {
   "cell_type": "code",
   "execution_count": 3,
   "metadata": {
    "scrolled": true
   },
   "outputs": [
    {
     "data": {
      "text/html": [
       "<div>\n",
       "<style scoped>\n",
       "    .dataframe tbody tr th:only-of-type {\n",
       "        vertical-align: middle;\n",
       "    }\n",
       "\n",
       "    .dataframe tbody tr th {\n",
       "        vertical-align: top;\n",
       "    }\n",
       "\n",
       "    .dataframe thead th {\n",
       "        text-align: right;\n",
       "    }\n",
       "</style>\n",
       "<table border=\"1\" class=\"dataframe\">\n",
       "  <thead>\n",
       "    <tr style=\"text-align: right;\">\n",
       "      <th></th>\n",
       "      <th>animal_id_outcome</th>\n",
       "      <th>dob_year</th>\n",
       "      <th>dob_month</th>\n",
       "      <th>age_upon_intake</th>\n",
       "      <th>animal_type</th>\n",
       "      <th>breed</th>\n",
       "      <th>color</th>\n",
       "      <th>intake_condition</th>\n",
       "      <th>intake_type</th>\n",
       "      <th>sex_upon_intake</th>\n",
       "      <th>count</th>\n",
       "      <th>age_upon_intake_(days)</th>\n",
       "      <th>age_upon_intake_(years)</th>\n",
       "      <th>age_upon_intake_age_group</th>\n",
       "      <th>intake_datetime</th>\n",
       "      <th>intake_month</th>\n",
       "      <th>intake_year</th>\n",
       "      <th>intake_monthyear</th>\n",
       "      <th>intake_weekday</th>\n",
       "      <th>intake_hour</th>\n",
       "      <th>intake_number</th>\n",
       "      <th>time_in_shelter</th>\n",
       "      <th>time_in_shelter_days</th>\n",
       "      <th>age_upon_outcome</th>\n",
       "      <th>date_of_birth</th>\n",
       "      <th>sex_upon_outcome</th>\n",
       "      <th>age_upon_outcome_(days)</th>\n",
       "      <th>age_upon_outcome_(years)</th>\n",
       "      <th>age_upon_outcome_age_group</th>\n",
       "      <th>outcome_datetime</th>\n",
       "      <th>outcome_month</th>\n",
       "      <th>outcome_year</th>\n",
       "      <th>outcome_monthyear</th>\n",
       "      <th>outcome_weekday</th>\n",
       "      <th>outcome_hour</th>\n",
       "      <th>outcome_number</th>\n",
       "      <th>outcome_type</th>\n",
       "    </tr>\n",
       "  </thead>\n",
       "  <tbody>\n",
       "    <tr>\n",
       "      <td>0</td>\n",
       "      <td>A006100</td>\n",
       "      <td>2007</td>\n",
       "      <td>7</td>\n",
       "      <td>10 years</td>\n",
       "      <td>Dog</td>\n",
       "      <td>Spinone Italiano Mix</td>\n",
       "      <td>Yellow/White</td>\n",
       "      <td>Normal</td>\n",
       "      <td>Stray</td>\n",
       "      <td>Neutered Male</td>\n",
       "      <td>1</td>\n",
       "      <td>3650</td>\n",
       "      <td>10.0</td>\n",
       "      <td>(7.5, 10.0]</td>\n",
       "      <td>2017-12-07 00:00:00</td>\n",
       "      <td>12</td>\n",
       "      <td>2017</td>\n",
       "      <td>2017-12</td>\n",
       "      <td>Thursday</td>\n",
       "      <td>14</td>\n",
       "      <td>1.0</td>\n",
       "      <td>0 days 14:07:00.000000000</td>\n",
       "      <td>0.588194</td>\n",
       "      <td>10 years</td>\n",
       "      <td>2007-07-09 00:00:00</td>\n",
       "      <td>Neutered Male</td>\n",
       "      <td>3650</td>\n",
       "      <td>10.0</td>\n",
       "      <td>(7.5, 10.0]</td>\n",
       "      <td>2017-12-07 14:07:00</td>\n",
       "      <td>12</td>\n",
       "      <td>2017</td>\n",
       "      <td>2017-12</td>\n",
       "      <td>Thursday</td>\n",
       "      <td>0</td>\n",
       "      <td>1.0</td>\n",
       "      <td>Return to Owner</td>\n",
       "    </tr>\n",
       "    <tr>\n",
       "      <td>1</td>\n",
       "      <td>A006100</td>\n",
       "      <td>2007</td>\n",
       "      <td>7</td>\n",
       "      <td>7 years</td>\n",
       "      <td>Dog</td>\n",
       "      <td>Spinone Italiano Mix</td>\n",
       "      <td>Yellow/White</td>\n",
       "      <td>Normal</td>\n",
       "      <td>Public Assist</td>\n",
       "      <td>Neutered Male</td>\n",
       "      <td>1</td>\n",
       "      <td>2555</td>\n",
       "      <td>7.0</td>\n",
       "      <td>(5.0, 7.5]</td>\n",
       "      <td>2014-12-19 10:21:00</td>\n",
       "      <td>12</td>\n",
       "      <td>2014</td>\n",
       "      <td>2014-12</td>\n",
       "      <td>Friday</td>\n",
       "      <td>10</td>\n",
       "      <td>2.0</td>\n",
       "      <td>1 days 06:14:00.000000000</td>\n",
       "      <td>1.259722</td>\n",
       "      <td>7 years</td>\n",
       "      <td>2007-07-09 00:00:00</td>\n",
       "      <td>Neutered Male</td>\n",
       "      <td>2555</td>\n",
       "      <td>7.0</td>\n",
       "      <td>(5.0, 7.5]</td>\n",
       "      <td>2014-12-20 16:35:00</td>\n",
       "      <td>12</td>\n",
       "      <td>2014</td>\n",
       "      <td>2014-12</td>\n",
       "      <td>Saturday</td>\n",
       "      <td>16</td>\n",
       "      <td>2.0</td>\n",
       "      <td>Return to Owner</td>\n",
       "    </tr>\n",
       "    <tr>\n",
       "      <td>2</td>\n",
       "      <td>A006100</td>\n",
       "      <td>2007</td>\n",
       "      <td>7</td>\n",
       "      <td>6 years</td>\n",
       "      <td>Dog</td>\n",
       "      <td>Spinone Italiano Mix</td>\n",
       "      <td>Yellow/White</td>\n",
       "      <td>Normal</td>\n",
       "      <td>Public Assist</td>\n",
       "      <td>Neutered Male</td>\n",
       "      <td>1</td>\n",
       "      <td>2190</td>\n",
       "      <td>6.0</td>\n",
       "      <td>(5.0, 7.5]</td>\n",
       "      <td>2014-03-07 14:26:00</td>\n",
       "      <td>3</td>\n",
       "      <td>2014</td>\n",
       "      <td>2014-03</td>\n",
       "      <td>Friday</td>\n",
       "      <td>14</td>\n",
       "      <td>3.0</td>\n",
       "      <td>1 days 02:44:00.000000000</td>\n",
       "      <td>1.113889</td>\n",
       "      <td>6 years</td>\n",
       "      <td>2007-07-09 00:00:00</td>\n",
       "      <td>Neutered Male</td>\n",
       "      <td>2190</td>\n",
       "      <td>6.0</td>\n",
       "      <td>(5.0, 7.5]</td>\n",
       "      <td>NaN</td>\n",
       "      <td>3</td>\n",
       "      <td>2014</td>\n",
       "      <td>2014-03</td>\n",
       "      <td>Saturday</td>\n",
       "      <td>17</td>\n",
       "      <td>3.0</td>\n",
       "      <td>Return to Owner</td>\n",
       "    </tr>\n",
       "    <tr>\n",
       "      <td>3</td>\n",
       "      <td>A047759</td>\n",
       "      <td>2004</td>\n",
       "      <td>4</td>\n",
       "      <td>10 years</td>\n",
       "      <td>Dog</td>\n",
       "      <td>Dachshund</td>\n",
       "      <td>Tricolor</td>\n",
       "      <td>Normal</td>\n",
       "      <td>Owner Surrender</td>\n",
       "      <td>Neutered Male</td>\n",
       "      <td>1</td>\n",
       "      <td>3650</td>\n",
       "      <td>10.0</td>\n",
       "      <td>(7.5, 10.0]</td>\n",
       "      <td>2014-04-02 15:55:00</td>\n",
       "      <td>4</td>\n",
       "      <td>2014</td>\n",
       "      <td>2014-04</td>\n",
       "      <td>Wednesday</td>\n",
       "      <td>15</td>\n",
       "      <td>1.0</td>\n",
       "      <td>4 days 23:17:00.000000000</td>\n",
       "      <td>4.970139</td>\n",
       "      <td>10 years</td>\n",
       "      <td>2004-04-02 00:00:00</td>\n",
       "      <td>Neutered Male</td>\n",
       "      <td>3650</td>\n",
       "      <td>10.0</td>\n",
       "      <td>(7.5, 10.0]</td>\n",
       "      <td>2014-04-07 15:12:00</td>\n",
       "      <td>4</td>\n",
       "      <td>2014</td>\n",
       "      <td>2014-04</td>\n",
       "      <td>Monday</td>\n",
       "      <td>15</td>\n",
       "      <td>1.0</td>\n",
       "      <td>Missing</td>\n",
       "    </tr>\n",
       "    <tr>\n",
       "      <td>4</td>\n",
       "      <td>A134067</td>\n",
       "      <td>1997</td>\n",
       "      <td>10</td>\n",
       "      <td>16 years</td>\n",
       "      <td>Dog</td>\n",
       "      <td>Shetland Sheepdog</td>\n",
       "      <td>Brown/White</td>\n",
       "      <td>Injured</td>\n",
       "      <td>Public Assist</td>\n",
       "      <td>Neutered Male</td>\n",
       "      <td>1</td>\n",
       "      <td>5840</td>\n",
       "      <td>16.0</td>\n",
       "      <td>(15.0, 17.5]</td>\n",
       "      <td>2013-11-16 09:02:00</td>\n",
       "      <td>11</td>\n",
       "      <td>2013</td>\n",
       "      <td>2013-11</td>\n",
       "      <td>Saturday</td>\n",
       "      <td>9</td>\n",
       "      <td>1.0</td>\n",
       "      <td>0 days 02:52:00.000000000</td>\n",
       "      <td>0.119444</td>\n",
       "      <td>16 years</td>\n",
       "      <td>1997-10-16 00:00:00</td>\n",
       "      <td>Neutered Male</td>\n",
       "      <td>5840</td>\n",
       "      <td>16.0</td>\n",
       "      <td>(15.0, 17.5]</td>\n",
       "      <td>2013-11-16 11:54:00</td>\n",
       "      <td>11</td>\n",
       "      <td>2013</td>\n",
       "      <td>2013-11</td>\n",
       "      <td>Saturday</td>\n",
       "      <td>11</td>\n",
       "      <td>1.0</td>\n",
       "      <td>Return to Owner</td>\n",
       "    </tr>\n",
       "  </tbody>\n",
       "</table>\n",
       "</div>"
      ],
      "text/plain": [
       "  animal_id_outcome  dob_year  dob_month age_upon_intake animal_type  \\\n",
       "0           A006100      2007          7        10 years         Dog   \n",
       "1           A006100      2007          7         7 years         Dog   \n",
       "2           A006100      2007          7         6 years         Dog   \n",
       "3           A047759      2004          4        10 years         Dog   \n",
       "4           A134067      1997         10        16 years         Dog   \n",
       "\n",
       "                  breed         color intake_condition      intake_type  \\\n",
       "0  Spinone Italiano Mix  Yellow/White           Normal            Stray   \n",
       "1  Spinone Italiano Mix  Yellow/White           Normal    Public Assist   \n",
       "2  Spinone Italiano Mix  Yellow/White           Normal    Public Assist   \n",
       "3             Dachshund      Tricolor           Normal  Owner Surrender   \n",
       "4     Shetland Sheepdog   Brown/White          Injured    Public Assist   \n",
       "\n",
       "  sex_upon_intake  count  age_upon_intake_(days)  age_upon_intake_(years)  \\\n",
       "0   Neutered Male      1                    3650                     10.0   \n",
       "1   Neutered Male      1                    2555                      7.0   \n",
       "2   Neutered Male      1                    2190                      6.0   \n",
       "3   Neutered Male      1                    3650                     10.0   \n",
       "4   Neutered Male      1                    5840                     16.0   \n",
       "\n",
       "  age_upon_intake_age_group      intake_datetime  intake_month  intake_year  \\\n",
       "0               (7.5, 10.0]  2017-12-07 00:00:00            12         2017   \n",
       "1                (5.0, 7.5]  2014-12-19 10:21:00            12         2014   \n",
       "2                (5.0, 7.5]  2014-03-07 14:26:00             3         2014   \n",
       "3               (7.5, 10.0]  2014-04-02 15:55:00             4         2014   \n",
       "4              (15.0, 17.5]  2013-11-16 09:02:00            11         2013   \n",
       "\n",
       "  intake_monthyear intake_weekday  intake_hour  intake_number  \\\n",
       "0          2017-12       Thursday           14            1.0   \n",
       "1          2014-12         Friday           10            2.0   \n",
       "2          2014-03         Friday           14            3.0   \n",
       "3          2014-04      Wednesday           15            1.0   \n",
       "4          2013-11       Saturday            9            1.0   \n",
       "\n",
       "             time_in_shelter  time_in_shelter_days age_upon_outcome  \\\n",
       "0  0 days 14:07:00.000000000              0.588194         10 years   \n",
       "1  1 days 06:14:00.000000000              1.259722          7 years   \n",
       "2  1 days 02:44:00.000000000              1.113889          6 years   \n",
       "3  4 days 23:17:00.000000000              4.970139         10 years   \n",
       "4  0 days 02:52:00.000000000              0.119444         16 years   \n",
       "\n",
       "         date_of_birth sex_upon_outcome  age_upon_outcome_(days)  \\\n",
       "0  2007-07-09 00:00:00    Neutered Male                     3650   \n",
       "1  2007-07-09 00:00:00    Neutered Male                     2555   \n",
       "2  2007-07-09 00:00:00    Neutered Male                     2190   \n",
       "3  2004-04-02 00:00:00    Neutered Male                     3650   \n",
       "4  1997-10-16 00:00:00    Neutered Male                     5840   \n",
       "\n",
       "   age_upon_outcome_(years) age_upon_outcome_age_group     outcome_datetime  \\\n",
       "0                      10.0                (7.5, 10.0]  2017-12-07 14:07:00   \n",
       "1                       7.0                 (5.0, 7.5]  2014-12-20 16:35:00   \n",
       "2                       6.0                 (5.0, 7.5]                  NaN   \n",
       "3                      10.0                (7.5, 10.0]  2014-04-07 15:12:00   \n",
       "4                      16.0               (15.0, 17.5]  2013-11-16 11:54:00   \n",
       "\n",
       "   outcome_month  outcome_year outcome_monthyear outcome_weekday  \\\n",
       "0             12          2017           2017-12        Thursday   \n",
       "1             12          2014           2014-12        Saturday   \n",
       "2              3          2014           2014-03        Saturday   \n",
       "3              4          2014           2014-04          Monday   \n",
       "4             11          2013           2013-11        Saturday   \n",
       "\n",
       "   outcome_hour  outcome_number     outcome_type  \n",
       "0             0             1.0  Return to Owner  \n",
       "1            16             2.0  Return to Owner  \n",
       "2            17             3.0  Return to Owner  \n",
       "3            15             1.0          Missing  \n",
       "4            11             1.0  Return to Owner  "
      ]
     },
     "execution_count": 3,
     "metadata": {},
     "output_type": "execute_result"
    }
   ],
   "source": [
    "train_df = pd.read_csv(\"train.csv\")\n",
    "train_df.head()\n",
    "# train_df[\"intake_datetime\"] = pd.to_datetime(\"intake_datetime\")\n",
    "# train_df[\"date_of_birth\"] = pd.to_datetime(\"date_of_birth\")\n",
    "# train_df[\"outcome_datetime\"] = pd.to_datetime(\"outcome_datetime\")"
   ]
  },
  {
   "cell_type": "code",
   "execution_count": 4,
   "metadata": {
    "scrolled": false
   },
   "outputs": [
    {
     "name": "stdout",
     "output_type": "stream",
     "text": [
      "<class 'pandas.core.frame.DataFrame'>\n",
      "RangeIndex: 47803 entries, 0 to 47802\n",
      "Data columns (total 37 columns):\n",
      "animal_id_outcome             47803 non-null object\n",
      "dob_year                      47803 non-null int64\n",
      "dob_month                     47803 non-null int64\n",
      "age_upon_intake               47803 non-null object\n",
      "animal_type                   47803 non-null object\n",
      "breed                         47803 non-null object\n",
      "color                         47803 non-null object\n",
      "intake_condition              47803 non-null object\n",
      "intake_type                   47803 non-null object\n",
      "sex_upon_intake               47802 non-null object\n",
      "count                         47803 non-null int64\n",
      "age_upon_intake_(days)        47803 non-null int64\n",
      "age_upon_intake_(years)       47803 non-null float64\n",
      "age_upon_intake_age_group     47803 non-null object\n",
      "intake_datetime               47803 non-null object\n",
      "intake_month                  47803 non-null int64\n",
      "intake_year                   47803 non-null int64\n",
      "intake_monthyear              47803 non-null object\n",
      "intake_weekday                47803 non-null object\n",
      "intake_hour                   47803 non-null int64\n",
      "intake_number                 47803 non-null float64\n",
      "time_in_shelter               47803 non-null object\n",
      "time_in_shelter_days          47803 non-null float64\n",
      "age_upon_outcome              47803 non-null object\n",
      "date_of_birth                 47803 non-null object\n",
      "sex_upon_outcome              47802 non-null object\n",
      "age_upon_outcome_(days)       47803 non-null int64\n",
      "age_upon_outcome_(years)      47803 non-null float64\n",
      "age_upon_outcome_age_group    47803 non-null object\n",
      "outcome_datetime              38184 non-null object\n",
      "outcome_month                 47803 non-null int64\n",
      "outcome_year                  47803 non-null int64\n",
      "outcome_monthyear             47803 non-null object\n",
      "outcome_weekday               47803 non-null object\n",
      "outcome_hour                  47803 non-null int64\n",
      "outcome_number                47803 non-null float64\n",
      "outcome_type                  47803 non-null object\n",
      "dtypes: float64(5), int64(11), object(21)\n",
      "memory usage: 13.5+ MB\n"
     ]
    }
   ],
   "source": [
    "train_df.info()"
   ]
  },
  {
   "cell_type": "code",
   "execution_count": 5,
   "metadata": {},
   "outputs": [],
   "source": [
    "train_df[\"breed_simple\"] = train_df.breed.apply(lambda x: x.split(\"/\")[0])\n",
    "train_df[\"breed_simple\"] = train_df.breed_simple.apply(lambda x: x.replace(\" Mix\",\"\"))\n",
    "train_df[\"color_simple\"] = train_df.color.apply(lambda x: x.split(\"/\")[0])\n",
    "#train_df.drop([\"breed\",\"color\"],inplace=True,axis=1)"
   ]
  },
  {
   "cell_type": "code",
   "execution_count": 6,
   "metadata": {},
   "outputs": [
    {
     "data": {
      "text/plain": [
       "(47802, 38)"
      ]
     },
     "execution_count": 6,
     "metadata": {},
     "output_type": "execute_result"
    }
   ],
   "source": [
    "# COLS_DROP = [\"dob_year\",\"dob_month\",\"age_upon_intake\",\"age_upon_intake_(years)\",\"age_upon_intake_age_group\",\\\n",
    "#              \"intake_datetime\",\"intake_month\",\"intake_year\",\"intake_monthyear\",\"intake_weekday\",\"intake_hour\",\"time_in_shelter\",\\\n",
    "#              \"age_upon_outcome\",\"date_of_birth\",\"age_upon_outcome_(years)\",\"age_upon_outcome_age_group\",\"outcome_datetime\",\\\n",
    "#              \"outcome_month\",\"outcome_year\",\"outcome_monthyear\",\"outcome_weekday\",\"outcome_hour\",\"outcome_number\"\n",
    "#             ]\n",
    "\n",
    "COLS_DROP = [\"outcome_datetime\"]\n",
    "train_df.drop(COLS_DROP,axis=1,inplace=True)\n",
    "train_df.dropna(how=\"any\",inplace=True)\n",
    "train_df.shape"
   ]
  },
  {
   "cell_type": "markdown",
   "metadata": {},
   "source": [
    "## Feature importance"
   ]
  },
  {
   "cell_type": "code",
   "execution_count": 6,
   "metadata": {},
   "outputs": [
    {
     "name": "stdout",
     "output_type": "stream",
     "text": [
      "age_upon_intake --> 0.04075590282525965\n",
      "animal_type --> 0.181789051754996\n",
      "intake_condition --> 0.11063012702461726\n",
      "intake_type --> 0.1792520123109551\n",
      "sex_upon_intake --> 0.09429610593288003\n",
      "age_upon_intake_age_group --> 0.05334850477134934\n",
      "intake_monthyear --> 0.00932297932471609\n",
      "intake_weekday --> 0.000917036901365201\n",
      "age_upon_outcome --> 0.053788681614858565\n",
      "sex_upon_outcome --> 0.13865449455385265\n",
      "outcome_monthyear --> 0.009793694115191006\n",
      "outcome_weekday --> 0.005990657094530605\n",
      "breed_simple --> 0.06345029169616354\n",
      "color_simple --> 0.026411652427103183\n"
     ]
    }
   ],
   "source": [
    "\n",
    "CAT_COLS = [\n",
    "    \"age_upon_intake\",\"animal_type\",\"intake_condition\",\"intake_type\",\"sex_upon_intake\",\"age_upon_intake_age_group\", \\\n",
    "    \"intake_monthyear\",\"intake_weekday\",\"age_upon_outcome\",\"sex_upon_outcome\",\"outcome_monthyear\",\"outcome_weekday\", \\\n",
    "    \"breed_simple\",\"color_simple\"\n",
    "]\n",
    "\n",
    "for col in CAT_COLS:\n",
    "    print(f\"{col} --> {theils_u(train_df[col],train_df['outcome_type'])}\")"
   ]
  },
  {
   "cell_type": "code",
   "execution_count": 7,
   "metadata": {},
   "outputs": [
    {
     "name": "stdout",
     "output_type": "stream",
     "text": [
      "dob_year --> 0.31537449102942816\n",
      "dob_month --> 0.022665507325972535\n",
      "count --> 0.0\n",
      "age_upon_intake_(days) --> 0.3321009990721741\n",
      "age_upon_intake_(years) --> 0.3321009990721741\n",
      "intake_month --> 0.0439706809957221\n",
      "intake_year --> 0.13764688376038314\n",
      "intake_hour --> 0.04218712428773912\n",
      "intake_number --> 0.2292030193425763\n",
      "time_in_shelter_days --> 0.2291022423424975\n",
      "age_upon_outcome_(days) --> 0.3283702187812068\n",
      "age_upon_outcome_(years) --> 0.32837021878120676\n",
      "outcome_month --> 0.04432196388328209\n",
      "outcome_year --> 0.13309341383596038\n",
      "outcome_hour --> 0.2551599180069674\n",
      "outcome_number --> 0.2292030193425763\n"
     ]
    }
   ],
   "source": [
    "NUM_COLS = [\n",
    "    \"dob_year\",\"dob_month\",\"count\",\"age_upon_intake_(days)\",\"age_upon_intake_(years)\",\"intake_month\",\"intake_year\",\\\n",
    "    \"intake_hour\",\"intake_number\",\"time_in_shelter_days\",\"age_upon_outcome_(days)\",\"age_upon_outcome_(years)\", \\\n",
    "            \"outcome_month\",\"outcome_year\",\"outcome_hour\",\"outcome_number\"\n",
    "]\n",
    "\n",
    "for col in NUM_COLS:\n",
    "    print(f\"{col} --> {correlation_ratio(train_df['outcome_type'],train_df[col])}\")"
   ]
  },
  {
   "cell_type": "markdown",
   "metadata": {},
   "source": [
    "## Modelling"
   ]
  },
  {
   "cell_type": "code",
   "execution_count": 9,
   "metadata": {},
   "outputs": [
    {
     "data": {
      "text/plain": [
       "Index(['animal_id_outcome', 'dob_year', 'dob_month', 'age_upon_intake',\n",
       "       'animal_type', 'breed', 'color', 'intake_condition', 'intake_type',\n",
       "       'sex_upon_intake', 'count', 'age_upon_intake_(days)',\n",
       "       'age_upon_intake_(years)', 'age_upon_intake_age_group',\n",
       "       'intake_datetime', 'intake_month', 'intake_year', 'intake_monthyear',\n",
       "       'intake_weekday', 'intake_hour', 'intake_number', 'time_in_shelter',\n",
       "       'time_in_shelter_days', 'age_upon_outcome', 'date_of_birth',\n",
       "       'sex_upon_outcome', 'age_upon_outcome_(days)',\n",
       "       'age_upon_outcome_(years)', 'age_upon_outcome_age_group',\n",
       "       'outcome_month', 'outcome_year', 'outcome_monthyear', 'outcome_weekday',\n",
       "       'outcome_hour', 'outcome_number', 'outcome_type', 'breed_simple',\n",
       "       'color_simple'],\n",
       "      dtype='object')"
      ]
     },
     "execution_count": 9,
     "metadata": {},
     "output_type": "execute_result"
    }
   ],
   "source": [
    "train_df.columns"
   ]
  },
  {
   "cell_type": "code",
   "execution_count": 7,
   "metadata": {},
   "outputs": [
    {
     "name": "stdout",
     "output_type": "stream",
     "text": [
      "Renamed from age_upon_intake_age_group_(-0.025, 2.5] ---> age_upon_intake_age_group_(-0.025, 2.5)\n",
      "Renamed from age_upon_intake_age_group_(10.0, 12.5] ---> age_upon_intake_age_group_(10.0, 12.5)\n",
      "Renamed from age_upon_intake_age_group_(12.5, 15.0] ---> age_upon_intake_age_group_(12.5, 15.0)\n",
      "Renamed from age_upon_intake_age_group_(15.0, 17.5] ---> age_upon_intake_age_group_(15.0, 17.5)\n",
      "Renamed from age_upon_intake_age_group_(17.5, 20.0] ---> age_upon_intake_age_group_(17.5, 20.0)\n",
      "Renamed from age_upon_intake_age_group_(2.5, 5.0] ---> age_upon_intake_age_group_(2.5, 5.0)\n",
      "Renamed from age_upon_intake_age_group_(20.0, 22.5] ---> age_upon_intake_age_group_(20.0, 22.5)\n",
      "Renamed from age_upon_intake_age_group_(5.0, 7.5] ---> age_upon_intake_age_group_(5.0, 7.5)\n",
      "Renamed from age_upon_intake_age_group_(7.5, 10.0] ---> age_upon_intake_age_group_(7.5, 10.0)\n",
      "Number of OHE features added: 599\n"
     ]
    }
   ],
   "source": [
    "NUM_COLS = [\n",
    "    \"dob_year\",\"dob_month\",\"count\",\"age_upon_intake_(days)\",\"age_upon_intake_(years)\",\"intake_month\",\"intake_year\",\\\n",
    "    \"intake_hour\",\"intake_number\",\"time_in_shelter_days\",\"age_upon_outcome_(days)\",\"age_upon_outcome_(years)\", \\\n",
    "            \"outcome_month\",\"outcome_year\",\"outcome_hour\",\"outcome_number\"\n",
    "]\n",
    "\n",
    "CAT_COLS = [\n",
    "    \"age_upon_intake\",\"animal_type\",\"intake_condition\",\"intake_type\",\"sex_upon_intake\",\"age_upon_intake_age_group\", \\\n",
    "    \"intake_monthyear\",\"intake_weekday\",\"age_upon_outcome\",\"sex_upon_outcome\",\"outcome_monthyear\",\"outcome_weekday\", \\\n",
    "    \"breed_simple\",\"color_simple\"\n",
    "]\n",
    "\n",
    "# NUM_COLS = [\n",
    "#     'count','age_upon_intake_(days)', 'intake_number', 'time_in_shelter_days','age_upon_outcome_(days)'\n",
    "# ]\n",
    "\n",
    "# CAT_COLS = [\n",
    "#     'animal_type','intake_condition', 'intake_type', 'sex_upon_intake','sex_upon_outcome'\n",
    "# ]\n",
    "\n",
    "RESPONSE = [\"outcome_type\"]\n",
    "\n",
    "numerical_df = train_df[NUM_COLS]\n",
    "categorical_df = pd.get_dummies(train_df[CAT_COLS])\n",
    "response_df = train_df[RESPONSE]\n",
    "\n",
    "for col in categorical_df.columns:\n",
    "    if \"]\" in str(col) or \"[\" in str(col):\n",
    "        new_name = str(col).replace(\"]\",\")\").replace(\"[\",\"(\")\n",
    "        categorical_df.rename({str(col):new_name},inplace=True,axis=1)\n",
    "        print(f\"Renamed from {col} ---> {new_name}\")\n",
    "        \n",
    "all_df = pd.concat([numerical_df,categorical_df,response_df],axis=1)\n",
    "print(f\"Number of OHE features added: {all_df.shape[1]-len(NUM_COLS)-len(CAT_COLS)-1}\")"
   ]
  },
  {
   "cell_type": "code",
   "execution_count": 8,
   "metadata": {},
   "outputs": [],
   "source": [
    "import xgboost as xgb\n",
    "from sklearn.model_selection import train_test_split\n",
    "from sklearn.metrics import accuracy_score, confusion_matrix, f1_score\n",
    "from sklearn.metrics import classification_report "
   ]
  },
  {
   "cell_type": "code",
   "execution_count": 12,
   "metadata": {},
   "outputs": [
    {
     "name": "stdout",
     "output_type": "stream",
     "text": [
      "Training data--Test data Date split\n",
      "(47802, 630)\n",
      "Training data--Validation data X-y split\n",
      "(35851, 629) (11951, 629) (35851, 1) (11951, 1)\n",
      "Index(['dob_year', 'dob_month', 'count', 'age_upon_intake_(days)',\n",
      "       'age_upon_intake_(years)', 'intake_month', 'intake_year', 'intake_hour',\n",
      "       'intake_number', 'time_in_shelter_days',\n",
      "       ...\n",
      "       'color_simple_Silver Lynx Point', 'color_simple_Silver Tabby',\n",
      "       'color_simple_Tan', 'color_simple_Torbie', 'color_simple_Tortie',\n",
      "       'color_simple_Tortie Point', 'color_simple_Tricolor',\n",
      "       'color_simple_White', 'color_simple_Yellow',\n",
      "       'color_simple_Yellow Brindle'],\n",
      "      dtype='object', length=629)\n"
     ]
    },
    {
     "name": "stderr",
     "output_type": "stream",
     "text": [
      "C:\\Users\\Administrator\\Anaconda3\\lib\\site-packages\\xgboost\\sklearn.py:235: DeprecationWarning: The seed parameter is deprecated as of version .6.Please use random_state instead.seed is deprecated.\n",
      "  'seed is deprecated.', DeprecationWarning)\n",
      "C:\\Users\\Administrator\\Anaconda3\\lib\\site-packages\\sklearn\\preprocessing\\_label.py:235: DataConversionWarning: A column-vector y was passed when a 1d array was expected. Please change the shape of y to (n_samples, ), for example using ravel().\n",
      "  y = column_or_1d(y, warn=True)\n"
     ]
    },
    {
     "name": "stdout",
     "output_type": "stream",
     "text": [
      "XGBClassifier(base_score=0.5, booster='gbtree', colsample_bylevel=1,\n",
      "              colsample_bynode=1, colsample_bytree=0.4, gamma=0,\n",
      "              learning_rate=0.07, max_delta_step=0, max_depth=3,\n",
      "              min_child_weight=1.5, missing=None, n_estimators=1000, n_jobs=1,\n",
      "              nthread=None, objective='multi:softprob', random_state=0,\n",
      "              reg_alpha=0.75, reg_lambda=0.45, scale_pos_weight=1, seed=42,\n",
      "              silent=None, subsample=0.6, verbosity=1)\n"
     ]
    }
   ],
   "source": [
    "#divide into train and test set\n",
    "print(\"Training data--Test data Date split\")\n",
    "print(all_df.shape)\n",
    "# Create X, y datasets and train,Val datasets\n",
    "X = all_df[all_df.columns[:-1]]\n",
    "#X = XGB_Train['Right1_min']\n",
    "y = all_df[RESPONSE]\n",
    "\n",
    "X_train, X_val, y_train, y_val = train_test_split(X,y,test_size=0.25,random_state=0)\n",
    "# X_train = np.array(X_train).reshape(-1,1)\n",
    "# X_val = np.array(X_val).reshape(-1,1)\n",
    "# y_train = np.array(y_train).reshape(-1,1)\n",
    "# y_val = np.array(y_val).reshape(-1,1)\n",
    "#, X_val, y_train, y_val\n",
    "features = X_train.columns\n",
    "print(\"Training data--Validation data X-y split\")\n",
    "print(X_train.shape, X_val.shape, y_train.shape, y_val.shape)\n",
    "print(features)\n",
    "#print(\"training data NG sample percentage\",100*y_train.value_counts()[1]/sum(y_train.value_counts()))\n",
    "#print(\"testing data NG sample percentage\",100*y_val.value_counts()[1]/sum(y_val.value_counts()))\n",
    "\n",
    "#Fitting XGB Classifier \n",
    "model=xgb.XGBClassifier(colsample_bytree=0.4,\n",
    "                gamma=0,\n",
    "                learning_rate=0.07,\n",
    "                max_depth=3,\n",
    "                min_child_weight=1.5,\n",
    "                n_estimators=1000,\n",
    "                reg_alpha=0.75,\n",
    "                reg_lambda=0.45,\n",
    "                subsample=0.6,\n",
    "                seed=42)\n",
    "model.fit(X_train,y_train)\n",
    "y_pred = model.predict(data=X_val)\n",
    "print (model)"
   ]
  },
  {
   "cell_type": "code",
   "execution_count": 13,
   "metadata": {},
   "outputs": [
    {
     "name": "stdout",
     "output_type": "stream",
     "text": [
      "Confusion Matrix :\n",
      "[[2864    8    0    7    0    0  102    2  261]\n",
      " [ 367   11    1   30    0    1   27    0  271]\n",
      " [   0    0   17   27    0    0    1    0    2]\n",
      " [  55    0    5  735    0    0   59    0  136]\n",
      " [ 409    2    0    2    1    0   22    1  231]\n",
      " [ 407    1    0    7    0    0   22    0  210]\n",
      " [ 231    0    0   33    0    0 2064    0  126]\n",
      " [ 349    0    0    5    0    0   27    0  215]\n",
      " [ 514    3    0   53    1    2  102    0 1922]]\n",
      "Accuracy Score : 0.6371014977826124\n",
      "Report : \n",
      "                 precision    recall  f1-score   support\n",
      "\n",
      "       Adoption       0.55      0.88      0.68      3244\n",
      "           Died       0.44      0.02      0.03       708\n",
      "       Disposal       0.74      0.36      0.49        47\n",
      "     Euthanasia       0.82      0.74      0.78       990\n",
      "        Missing       0.50      0.00      0.00       668\n",
      "       Relocate       0.00      0.00      0.00       647\n",
      "Return to Owner       0.85      0.84      0.85      2454\n",
      "      Rto-Adopt       0.00      0.00      0.00       596\n",
      "       Transfer       0.57      0.74      0.64      2597\n",
      "\n",
      "       accuracy                           0.64     11951\n",
      "      macro avg       0.50      0.40      0.39     11951\n",
      "   weighted avg       0.57      0.64      0.57     11951\n",
      "\n"
     ]
    }
   ],
   "source": [
    "actual = y_val\n",
    "predicted = y_pred\n",
    "results = confusion_matrix(actual, predicted) \n",
    "print('Confusion Matrix :')\n",
    "print(results) \n",
    "print('Accuracy Score :',accuracy_score(actual, predicted))\n",
    "print('Report : ')\n",
    "print(classification_report(actual, predicted))"
   ]
  },
  {
   "cell_type": "code",
   "execution_count": 14,
   "metadata": {},
   "outputs": [
    {
     "name": "stderr",
     "output_type": "stream",
     "text": [
      "C:\\Users\\Administrator\\Anaconda3\\lib\\site-packages\\ipykernel_launcher.py:8: DataConversionWarning: A column-vector y was passed when a 1d array was expected. Please change the shape of y to (n_samples,), for example using ravel().\n",
      "  \n"
     ]
    },
    {
     "name": "stdout",
     "output_type": "stream",
     "text": [
      "RandomForestClassifier(bootstrap=True, class_weight=None, criterion='gini',\n",
      "                       max_depth=None, max_features='sqrt', max_leaf_nodes=None,\n",
      "                       min_impurity_decrease=0.0, min_impurity_split=None,\n",
      "                       min_samples_leaf=1, min_samples_split=2,\n",
      "                       min_weight_fraction_leaf=0.0, n_estimators=100,\n",
      "                       n_jobs=None, oob_score=False, random_state=None,\n",
      "                       verbose=0, warm_start=False)\n",
      "Confusion Matrix :\n",
      "[[2832   13    0    4   16   21  155   19  184]\n",
      " [ 380   15    0   22    7    4   38    2  240]\n",
      " [   0    1   17   27    0    0    1    0    1]\n",
      " [  67    3    5  675    0    0   90    0  150]\n",
      " [ 404    6    0    2    7   10   34    9  196]\n",
      " [ 396    7    0    9    9    3   41    8  174]\n",
      " [ 259    0    0   25    0    0 2070    1   99]\n",
      " [ 352   10    0    0    5    5   42    4  178]\n",
      " [ 579   44    0   42   46   34  162   40 1650]]\n",
      "Accuracy Score : 0.608568320642624\n",
      "Report : \n",
      "                 precision    recall  f1-score   support\n",
      "\n",
      "       Adoption       0.54      0.87      0.67      3244\n",
      "           Died       0.15      0.02      0.04       708\n",
      "       Disposal       0.77      0.36      0.49        47\n",
      "     Euthanasia       0.84      0.68      0.75       990\n",
      "        Missing       0.08      0.01      0.02       668\n",
      "       Relocate       0.04      0.00      0.01       647\n",
      "Return to Owner       0.79      0.84      0.81      2454\n",
      "      Rto-Adopt       0.05      0.01      0.01       596\n",
      "       Transfer       0.57      0.64      0.60      2597\n",
      "\n",
      "       accuracy                           0.61     11951\n",
      "      macro avg       0.42      0.38      0.38     11951\n",
      "   weighted avg       0.52      0.61      0.55     11951\n",
      "\n"
     ]
    }
   ],
   "source": [
    "from sklearn.ensemble import RandomForestClassifier\n",
    "\n",
    "# Create the model with 100 trees\n",
    "model = RandomForestClassifier(n_estimators=100, \n",
    "                               bootstrap = True,\n",
    "                               max_features = 'sqrt')\n",
    "# Fit on training data\n",
    "model.fit(X_train,y_train)\n",
    "y_pred = model.predict(X_val)\n",
    "print (model)\n",
    "\n",
    "actual = y_val\n",
    "predicted = y_pred\n",
    "results = confusion_matrix(actual, predicted) \n",
    "print('Confusion Matrix :')\n",
    "print(results) \n",
    "print('Accuracy Score :',accuracy_score(actual, predicted))\n",
    "print('Report : ')\n",
    "print(classification_report(actual, predicted))\n",
    "#plot_confusion"
   ]
  },
  {
   "cell_type": "code",
   "execution_count": 25,
   "metadata": {},
   "outputs": [
    {
     "name": "stdout",
     "output_type": "stream",
     "text": [
      "(47802, 629) (47802, 1)\n",
      "  1%|▍                                             | 1/100 [28:05<46:21:37, 1685.84s/it, best loss: 10.114132708559953]"
     ]
    },
    {
     "name": "stderr",
     "output_type": "stream",
     "text": [
      "C:\\Users\\Administrator\\Anaconda3\\lib\\site-packages\\sklearn\\preprocessing\\_label.py:251: DataConversionWarning: A column-vector y was passed when a 1d array was expected. Please change the shape of y to (n_samples, ), for example using ravel().\n",
      "  y = column_or_1d(y, warn=True)\n",
      "\n",
      "C:\\Users\\Administrator\\Anaconda3\\lib\\site-packages\\xgboost\\sklearn.py:242: DeprecationWarning: The nthread parameter is deprecated as of version .6.Please use n_jobs instead.nthread is deprecated.\n",
      "  'nthread is deprecated.', DeprecationWarning)\n",
      "\n",
      "C:\\Users\\Administrator\\Anaconda3\\lib\\site-packages\\xgboost\\sklearn.py:249: DeprecationWarning: The silent parameter is deprecated.Please use verbosity instead.silent is depreated\n",
      "  'silent is depreated', DeprecationWarning)\n",
      "\n"
     ]
    },
    {
     "name": "stdout",
     "output_type": "stream",
     "text": [
      "\r",
      "  2%|▉                                             | 2/100 [33:19<34:40:59, 1274.08s/it, best loss: 10.114132708559953]"
     ]
    },
    {
     "name": "stderr",
     "output_type": "stream",
     "text": [
      "C:\\Users\\Administrator\\Anaconda3\\lib\\site-packages\\sklearn\\preprocessing\\_label.py:251: DataConversionWarning: A column-vector y was passed when a 1d array was expected. Please change the shape of y to (n_samples, ), for example using ravel().\n",
      "  y = column_or_1d(y, warn=True)\n",
      "\n",
      "C:\\Users\\Administrator\\Anaconda3\\lib\\site-packages\\xgboost\\sklearn.py:242: DeprecationWarning: The nthread parameter is deprecated as of version .6.Please use n_jobs instead.nthread is deprecated.\n",
      "  'nthread is deprecated.', DeprecationWarning)\n",
      "\n",
      "C:\\Users\\Administrator\\Anaconda3\\lib\\site-packages\\xgboost\\sklearn.py:249: DeprecationWarning: The silent parameter is deprecated.Please use verbosity instead.silent is depreated\n",
      "  'silent is depreated', DeprecationWarning)\n",
      "\n"
     ]
    },
    {
     "name": "stdout",
     "output_type": "stream",
     "text": [
      "\r",
      "  3%|█▍                                             | 3/100 [34:04<24:23:35, 905.31s/it, best loss: 10.114132708559953]"
     ]
    },
    {
     "name": "stderr",
     "output_type": "stream",
     "text": [
      "C:\\Users\\Administrator\\Anaconda3\\lib\\site-packages\\sklearn\\preprocessing\\_label.py:251: DataConversionWarning: A column-vector y was passed when a 1d array was expected. Please change the shape of y to (n_samples, ), for example using ravel().\n",
      "  y = column_or_1d(y, warn=True)\n",
      "\n",
      "C:\\Users\\Administrator\\Anaconda3\\lib\\site-packages\\xgboost\\sklearn.py:242: DeprecationWarning: The nthread parameter is deprecated as of version .6.Please use n_jobs instead.nthread is deprecated.\n",
      "  'nthread is deprecated.', DeprecationWarning)\n",
      "\n",
      "C:\\Users\\Administrator\\Anaconda3\\lib\\site-packages\\xgboost\\sklearn.py:249: DeprecationWarning: The silent parameter is deprecated.Please use verbosity instead.silent is depreated\n",
      "  'silent is depreated', DeprecationWarning)\n",
      "\n"
     ]
    },
    {
     "name": "stdout",
     "output_type": "stream",
     "text": [
      "  3%|█▍                                            | 3/100 [57:54<31:12:31, 1158.26s/it, best loss: 10.114132708559953]\n"
     ]
    },
    {
     "ename": "KeyboardInterrupt",
     "evalue": "",
     "output_type": "error",
     "traceback": [
      "\u001b[1;31m---------------------------------------------------------------------------\u001b[0m",
      "\u001b[1;31mKeyboardInterrupt\u001b[0m                         Traceback (most recent call last)",
      "\u001b[1;32m<ipython-input-25-e5565efef21b>\u001b[0m in \u001b[0;36m<module>\u001b[1;34m\u001b[0m\n\u001b[0;32m     60\u001b[0m         \u001b[0mspace\u001b[0m\u001b[1;33m=\u001b[0m\u001b[0mspace\u001b[0m\u001b[1;33m,\u001b[0m\u001b[1;33m\u001b[0m\u001b[1;33m\u001b[0m\u001b[0m\n\u001b[0;32m     61\u001b[0m         \u001b[0malgo\u001b[0m\u001b[1;33m=\u001b[0m\u001b[0mtpe\u001b[0m\u001b[1;33m.\u001b[0m\u001b[0msuggest\u001b[0m\u001b[1;33m,\u001b[0m\u001b[1;33m\u001b[0m\u001b[1;33m\u001b[0m\u001b[0m\n\u001b[1;32m---> 62\u001b[1;33m         \u001b[0mmax_evals\u001b[0m\u001b[1;33m=\u001b[0m\u001b[1;36m100\u001b[0m\u001b[1;33m\u001b[0m\u001b[1;33m\u001b[0m\u001b[0m\n\u001b[0m\u001b[0;32m     63\u001b[0m )\n\u001b[0;32m     64\u001b[0m \u001b[0mprint\u001b[0m\u001b[1;33m(\u001b[0m\u001b[0mbest\u001b[0m\u001b[1;33m)\u001b[0m\u001b[1;33m\u001b[0m\u001b[1;33m\u001b[0m\u001b[0m\n",
      "\u001b[1;32m~\\Anaconda3\\lib\\site-packages\\hyperopt\\fmin.py\u001b[0m in \u001b[0;36mfmin\u001b[1;34m(fn, space, algo, max_evals, trials, rstate, allow_trials_fmin, pass_expr_memo_ctrl, catch_eval_exceptions, verbose, return_argmin, points_to_evaluate, max_queue_len, show_progressbar)\u001b[0m\n\u001b[0;32m    420\u001b[0m                     show_progressbar=show_progressbar)\n\u001b[0;32m    421\u001b[0m     \u001b[0mrval\u001b[0m\u001b[1;33m.\u001b[0m\u001b[0mcatch_eval_exceptions\u001b[0m \u001b[1;33m=\u001b[0m \u001b[0mcatch_eval_exceptions\u001b[0m\u001b[1;33m\u001b[0m\u001b[1;33m\u001b[0m\u001b[0m\n\u001b[1;32m--> 422\u001b[1;33m     \u001b[0mrval\u001b[0m\u001b[1;33m.\u001b[0m\u001b[0mexhaust\u001b[0m\u001b[1;33m(\u001b[0m\u001b[1;33m)\u001b[0m\u001b[1;33m\u001b[0m\u001b[1;33m\u001b[0m\u001b[0m\n\u001b[0m\u001b[0;32m    423\u001b[0m     \u001b[1;32mif\u001b[0m \u001b[0mreturn_argmin\u001b[0m\u001b[1;33m:\u001b[0m\u001b[1;33m\u001b[0m\u001b[1;33m\u001b[0m\u001b[0m\n\u001b[0;32m    424\u001b[0m         \u001b[1;32mif\u001b[0m \u001b[0mlen\u001b[0m\u001b[1;33m(\u001b[0m\u001b[0mtrials\u001b[0m\u001b[1;33m.\u001b[0m\u001b[0mtrials\u001b[0m\u001b[1;33m)\u001b[0m \u001b[1;33m==\u001b[0m \u001b[1;36m0\u001b[0m\u001b[1;33m:\u001b[0m\u001b[1;33m\u001b[0m\u001b[1;33m\u001b[0m\u001b[0m\n",
      "\u001b[1;32m~\\Anaconda3\\lib\\site-packages\\hyperopt\\fmin.py\u001b[0m in \u001b[0;36mexhaust\u001b[1;34m(self)\u001b[0m\n\u001b[0;32m    274\u001b[0m     \u001b[1;32mdef\u001b[0m \u001b[0mexhaust\u001b[0m\u001b[1;33m(\u001b[0m\u001b[0mself\u001b[0m\u001b[1;33m)\u001b[0m\u001b[1;33m:\u001b[0m\u001b[1;33m\u001b[0m\u001b[1;33m\u001b[0m\u001b[0m\n\u001b[0;32m    275\u001b[0m         \u001b[0mn_done\u001b[0m \u001b[1;33m=\u001b[0m \u001b[0mlen\u001b[0m\u001b[1;33m(\u001b[0m\u001b[0mself\u001b[0m\u001b[1;33m.\u001b[0m\u001b[0mtrials\u001b[0m\u001b[1;33m)\u001b[0m\u001b[1;33m\u001b[0m\u001b[1;33m\u001b[0m\u001b[0m\n\u001b[1;32m--> 276\u001b[1;33m         \u001b[0mself\u001b[0m\u001b[1;33m.\u001b[0m\u001b[0mrun\u001b[0m\u001b[1;33m(\u001b[0m\u001b[0mself\u001b[0m\u001b[1;33m.\u001b[0m\u001b[0mmax_evals\u001b[0m \u001b[1;33m-\u001b[0m \u001b[0mn_done\u001b[0m\u001b[1;33m,\u001b[0m \u001b[0mblock_until_done\u001b[0m\u001b[1;33m=\u001b[0m\u001b[0mself\u001b[0m\u001b[1;33m.\u001b[0m\u001b[0masynchronous\u001b[0m\u001b[1;33m)\u001b[0m\u001b[1;33m\u001b[0m\u001b[1;33m\u001b[0m\u001b[0m\n\u001b[0m\u001b[0;32m    277\u001b[0m         \u001b[0mself\u001b[0m\u001b[1;33m.\u001b[0m\u001b[0mtrials\u001b[0m\u001b[1;33m.\u001b[0m\u001b[0mrefresh\u001b[0m\u001b[1;33m(\u001b[0m\u001b[1;33m)\u001b[0m\u001b[1;33m\u001b[0m\u001b[1;33m\u001b[0m\u001b[0m\n\u001b[0;32m    278\u001b[0m         \u001b[1;32mreturn\u001b[0m \u001b[0mself\u001b[0m\u001b[1;33m\u001b[0m\u001b[1;33m\u001b[0m\u001b[0m\n",
      "\u001b[1;32m~\\Anaconda3\\lib\\site-packages\\hyperopt\\fmin.py\u001b[0m in \u001b[0;36mrun\u001b[1;34m(self, N, block_until_done)\u001b[0m\n\u001b[0;32m    239\u001b[0m                     \u001b[1;32melse\u001b[0m\u001b[1;33m:\u001b[0m\u001b[1;33m\u001b[0m\u001b[1;33m\u001b[0m\u001b[0m\n\u001b[0;32m    240\u001b[0m                         \u001b[1;31m# -- loop over trials and do the jobs directly\u001b[0m\u001b[1;33m\u001b[0m\u001b[1;33m\u001b[0m\u001b[1;33m\u001b[0m\u001b[0m\n\u001b[1;32m--> 241\u001b[1;33m                         \u001b[0mself\u001b[0m\u001b[1;33m.\u001b[0m\u001b[0mserial_evaluate\u001b[0m\u001b[1;33m(\u001b[0m\u001b[1;33m)\u001b[0m\u001b[1;33m\u001b[0m\u001b[1;33m\u001b[0m\u001b[0m\n\u001b[0m\u001b[0;32m    242\u001b[0m \u001b[1;33m\u001b[0m\u001b[0m\n\u001b[0;32m    243\u001b[0m                     \u001b[1;32mtry\u001b[0m\u001b[1;33m:\u001b[0m\u001b[1;33m\u001b[0m\u001b[1;33m\u001b[0m\u001b[0m\n",
      "\u001b[1;32m~\\Anaconda3\\lib\\site-packages\\hyperopt\\fmin.py\u001b[0m in \u001b[0;36mserial_evaluate\u001b[1;34m(self, N)\u001b[0m\n\u001b[0;32m    139\u001b[0m                 \u001b[0mctrl\u001b[0m \u001b[1;33m=\u001b[0m \u001b[0mbase\u001b[0m\u001b[1;33m.\u001b[0m\u001b[0mCtrl\u001b[0m\u001b[1;33m(\u001b[0m\u001b[0mself\u001b[0m\u001b[1;33m.\u001b[0m\u001b[0mtrials\u001b[0m\u001b[1;33m,\u001b[0m \u001b[0mcurrent_trial\u001b[0m\u001b[1;33m=\u001b[0m\u001b[0mtrial\u001b[0m\u001b[1;33m)\u001b[0m\u001b[1;33m\u001b[0m\u001b[1;33m\u001b[0m\u001b[0m\n\u001b[0;32m    140\u001b[0m                 \u001b[1;32mtry\u001b[0m\u001b[1;33m:\u001b[0m\u001b[1;33m\u001b[0m\u001b[1;33m\u001b[0m\u001b[0m\n\u001b[1;32m--> 141\u001b[1;33m                     \u001b[0mresult\u001b[0m \u001b[1;33m=\u001b[0m \u001b[0mself\u001b[0m\u001b[1;33m.\u001b[0m\u001b[0mdomain\u001b[0m\u001b[1;33m.\u001b[0m\u001b[0mevaluate\u001b[0m\u001b[1;33m(\u001b[0m\u001b[0mspec\u001b[0m\u001b[1;33m,\u001b[0m \u001b[0mctrl\u001b[0m\u001b[1;33m)\u001b[0m\u001b[1;33m\u001b[0m\u001b[1;33m\u001b[0m\u001b[0m\n\u001b[0m\u001b[0;32m    142\u001b[0m                 \u001b[1;32mexcept\u001b[0m \u001b[0mException\u001b[0m \u001b[1;32mas\u001b[0m \u001b[0me\u001b[0m\u001b[1;33m:\u001b[0m\u001b[1;33m\u001b[0m\u001b[1;33m\u001b[0m\u001b[0m\n\u001b[0;32m    143\u001b[0m                     \u001b[0mlogger\u001b[0m\u001b[1;33m.\u001b[0m\u001b[0minfo\u001b[0m\u001b[1;33m(\u001b[0m\u001b[1;34m'job exception: %s'\u001b[0m \u001b[1;33m%\u001b[0m \u001b[0mstr\u001b[0m\u001b[1;33m(\u001b[0m\u001b[0me\u001b[0m\u001b[1;33m)\u001b[0m\u001b[1;33m)\u001b[0m\u001b[1;33m\u001b[0m\u001b[1;33m\u001b[0m\u001b[0m\n",
      "\u001b[1;32m~\\Anaconda3\\lib\\site-packages\\hyperopt\\base.py\u001b[0m in \u001b[0;36mevaluate\u001b[1;34m(self, config, ctrl, attach_attachments)\u001b[0m\n\u001b[0;32m    854\u001b[0m                 \u001b[0mmemo\u001b[0m\u001b[1;33m=\u001b[0m\u001b[0mmemo\u001b[0m\u001b[1;33m,\u001b[0m\u001b[1;33m\u001b[0m\u001b[1;33m\u001b[0m\u001b[0m\n\u001b[0;32m    855\u001b[0m                 print_node_on_error=self.rec_eval_print_node_on_error)\n\u001b[1;32m--> 856\u001b[1;33m             \u001b[0mrval\u001b[0m \u001b[1;33m=\u001b[0m \u001b[0mself\u001b[0m\u001b[1;33m.\u001b[0m\u001b[0mfn\u001b[0m\u001b[1;33m(\u001b[0m\u001b[0mpyll_rval\u001b[0m\u001b[1;33m)\u001b[0m\u001b[1;33m\u001b[0m\u001b[1;33m\u001b[0m\u001b[0m\n\u001b[0m\u001b[0;32m    857\u001b[0m \u001b[1;33m\u001b[0m\u001b[0m\n\u001b[0;32m    858\u001b[0m         \u001b[1;32mif\u001b[0m \u001b[0misinstance\u001b[0m\u001b[1;33m(\u001b[0m\u001b[0mrval\u001b[0m\u001b[1;33m,\u001b[0m \u001b[1;33m(\u001b[0m\u001b[0mfloat\u001b[0m\u001b[1;33m,\u001b[0m \u001b[0mint\u001b[0m\u001b[1;33m,\u001b[0m \u001b[0mnp\u001b[0m\u001b[1;33m.\u001b[0m\u001b[0mnumber\u001b[0m\u001b[1;33m)\u001b[0m\u001b[1;33m)\u001b[0m\u001b[1;33m:\u001b[0m\u001b[1;33m\u001b[0m\u001b[1;33m\u001b[0m\u001b[0m\n",
      "\u001b[1;32m<ipython-input-25-e5565efef21b>\u001b[0m in \u001b[0;36mobjective\u001b[1;34m(space)\u001b[0m\n\u001b[0;32m     51\u001b[0m             \u001b[0mverbosity\u001b[0m\u001b[1;33m=\u001b[0m\u001b[1;36m1\u001b[0m\u001b[1;33m\u001b[0m\u001b[1;33m\u001b[0m\u001b[0m\n\u001b[0;32m     52\u001b[0m     )\n\u001b[1;32m---> 53\u001b[1;33m     \u001b[0mmodel\u001b[0m\u001b[1;33m.\u001b[0m\u001b[0mfit\u001b[0m\u001b[1;33m(\u001b[0m\u001b[0mX_train\u001b[0m\u001b[1;33m,\u001b[0m \u001b[0my_train\u001b[0m\u001b[1;33m)\u001b[0m\u001b[1;33m\u001b[0m\u001b[1;33m\u001b[0m\u001b[0m\n\u001b[0m\u001b[0;32m     54\u001b[0m     \u001b[1;32mreturn\u001b[0m \u001b[0mmean_squared_error\u001b[0m\u001b[1;33m(\u001b[0m\u001b[0my_val\u001b[0m\u001b[1;33m,\u001b[0m\u001b[0mmodel\u001b[0m\u001b[1;33m.\u001b[0m\u001b[0mpredict\u001b[0m\u001b[1;33m(\u001b[0m\u001b[0mX_val\u001b[0m\u001b[1;33m)\u001b[0m\u001b[1;33m)\u001b[0m\u001b[1;33m\u001b[0m\u001b[1;33m\u001b[0m\u001b[0m\n\u001b[0;32m     55\u001b[0m \u001b[1;33m\u001b[0m\u001b[0m\n",
      "\u001b[1;32m~\\Anaconda3\\lib\\site-packages\\xgboost\\sklearn.py\u001b[0m in \u001b[0;36mfit\u001b[1;34m(self, X, y, sample_weight, eval_set, eval_metric, early_stopping_rounds, verbose, xgb_model, sample_weight_eval_set, callbacks)\u001b[0m\n\u001b[0;32m    730\u001b[0m                               \u001b[0mevals_result\u001b[0m\u001b[1;33m=\u001b[0m\u001b[0mevals_result\u001b[0m\u001b[1;33m,\u001b[0m \u001b[0mobj\u001b[0m\u001b[1;33m=\u001b[0m\u001b[0mobj\u001b[0m\u001b[1;33m,\u001b[0m \u001b[0mfeval\u001b[0m\u001b[1;33m=\u001b[0m\u001b[0mfeval\u001b[0m\u001b[1;33m,\u001b[0m\u001b[1;33m\u001b[0m\u001b[1;33m\u001b[0m\u001b[0m\n\u001b[0;32m    731\u001b[0m                               \u001b[0mverbose_eval\u001b[0m\u001b[1;33m=\u001b[0m\u001b[0mverbose\u001b[0m\u001b[1;33m,\u001b[0m \u001b[0mxgb_model\u001b[0m\u001b[1;33m=\u001b[0m\u001b[0mxgb_model\u001b[0m\u001b[1;33m,\u001b[0m\u001b[1;33m\u001b[0m\u001b[1;33m\u001b[0m\u001b[0m\n\u001b[1;32m--> 732\u001b[1;33m                               callbacks=callbacks)\n\u001b[0m\u001b[0;32m    733\u001b[0m \u001b[1;33m\u001b[0m\u001b[0m\n\u001b[0;32m    734\u001b[0m         \u001b[0mself\u001b[0m\u001b[1;33m.\u001b[0m\u001b[0mobjective\u001b[0m \u001b[1;33m=\u001b[0m \u001b[0mxgb_options\u001b[0m\u001b[1;33m[\u001b[0m\u001b[1;34m\"objective\"\u001b[0m\u001b[1;33m]\u001b[0m\u001b[1;33m\u001b[0m\u001b[1;33m\u001b[0m\u001b[0m\n",
      "\u001b[1;32m~\\Anaconda3\\lib\\site-packages\\xgboost\\training.py\u001b[0m in \u001b[0;36mtrain\u001b[1;34m(params, dtrain, num_boost_round, evals, obj, feval, maximize, early_stopping_rounds, evals_result, verbose_eval, xgb_model, callbacks, learning_rates)\u001b[0m\n\u001b[0;32m    214\u001b[0m                            \u001b[0mevals\u001b[0m\u001b[1;33m=\u001b[0m\u001b[0mevals\u001b[0m\u001b[1;33m,\u001b[0m\u001b[1;33m\u001b[0m\u001b[1;33m\u001b[0m\u001b[0m\n\u001b[0;32m    215\u001b[0m                            \u001b[0mobj\u001b[0m\u001b[1;33m=\u001b[0m\u001b[0mobj\u001b[0m\u001b[1;33m,\u001b[0m \u001b[0mfeval\u001b[0m\u001b[1;33m=\u001b[0m\u001b[0mfeval\u001b[0m\u001b[1;33m,\u001b[0m\u001b[1;33m\u001b[0m\u001b[1;33m\u001b[0m\u001b[0m\n\u001b[1;32m--> 216\u001b[1;33m                            xgb_model=xgb_model, callbacks=callbacks)\n\u001b[0m\u001b[0;32m    217\u001b[0m \u001b[1;33m\u001b[0m\u001b[0m\n\u001b[0;32m    218\u001b[0m \u001b[1;33m\u001b[0m\u001b[0m\n",
      "\u001b[1;32m~\\Anaconda3\\lib\\site-packages\\xgboost\\training.py\u001b[0m in \u001b[0;36m_train_internal\u001b[1;34m(params, dtrain, num_boost_round, evals, obj, feval, xgb_model, callbacks)\u001b[0m\n\u001b[0;32m     72\u001b[0m         \u001b[1;31m# Skip the first update if it is a recovery step.\u001b[0m\u001b[1;33m\u001b[0m\u001b[1;33m\u001b[0m\u001b[1;33m\u001b[0m\u001b[0m\n\u001b[0;32m     73\u001b[0m         \u001b[1;32mif\u001b[0m \u001b[0mversion\u001b[0m \u001b[1;33m%\u001b[0m \u001b[1;36m2\u001b[0m \u001b[1;33m==\u001b[0m \u001b[1;36m0\u001b[0m\u001b[1;33m:\u001b[0m\u001b[1;33m\u001b[0m\u001b[1;33m\u001b[0m\u001b[0m\n\u001b[1;32m---> 74\u001b[1;33m             \u001b[0mbst\u001b[0m\u001b[1;33m.\u001b[0m\u001b[0mupdate\u001b[0m\u001b[1;33m(\u001b[0m\u001b[0mdtrain\u001b[0m\u001b[1;33m,\u001b[0m \u001b[0mi\u001b[0m\u001b[1;33m,\u001b[0m \u001b[0mobj\u001b[0m\u001b[1;33m)\u001b[0m\u001b[1;33m\u001b[0m\u001b[1;33m\u001b[0m\u001b[0m\n\u001b[0m\u001b[0;32m     75\u001b[0m             \u001b[0mbst\u001b[0m\u001b[1;33m.\u001b[0m\u001b[0msave_rabit_checkpoint\u001b[0m\u001b[1;33m(\u001b[0m\u001b[1;33m)\u001b[0m\u001b[1;33m\u001b[0m\u001b[1;33m\u001b[0m\u001b[0m\n\u001b[0;32m     76\u001b[0m             \u001b[0mversion\u001b[0m \u001b[1;33m+=\u001b[0m \u001b[1;36m1\u001b[0m\u001b[1;33m\u001b[0m\u001b[1;33m\u001b[0m\u001b[0m\n",
      "\u001b[1;32m~\\Anaconda3\\lib\\site-packages\\xgboost\\core.py\u001b[0m in \u001b[0;36mupdate\u001b[1;34m(self, dtrain, iteration, fobj)\u001b[0m\n\u001b[0;32m   1107\u001b[0m         \u001b[1;32mif\u001b[0m \u001b[0mfobj\u001b[0m \u001b[1;32mis\u001b[0m \u001b[1;32mNone\u001b[0m\u001b[1;33m:\u001b[0m\u001b[1;33m\u001b[0m\u001b[1;33m\u001b[0m\u001b[0m\n\u001b[0;32m   1108\u001b[0m             _check_call(_LIB.XGBoosterUpdateOneIter(self.handle, ctypes.c_int(iteration),\n\u001b[1;32m-> 1109\u001b[1;33m                                                     dtrain.handle))\n\u001b[0m\u001b[0;32m   1110\u001b[0m         \u001b[1;32melse\u001b[0m\u001b[1;33m:\u001b[0m\u001b[1;33m\u001b[0m\u001b[1;33m\u001b[0m\u001b[0m\n\u001b[0;32m   1111\u001b[0m             \u001b[0mpred\u001b[0m \u001b[1;33m=\u001b[0m \u001b[0mself\u001b[0m\u001b[1;33m.\u001b[0m\u001b[0mpredict\u001b[0m\u001b[1;33m(\u001b[0m\u001b[0mdtrain\u001b[0m\u001b[1;33m)\u001b[0m\u001b[1;33m\u001b[0m\u001b[1;33m\u001b[0m\u001b[0m\n",
      "\u001b[1;31mKeyboardInterrupt\u001b[0m: "
     ]
    }
   ],
   "source": [
    "from hyperopt import hp, fmin, tpe\n",
    "from sklearn.metrics import mean_squared_error\n",
    "from sklearn import preprocessing\n",
    "\n",
    "X = all_df[all_df.columns[:-1]]\n",
    "y = all_df[RESPONSE]\n",
    "print(X.shape, y.shape)\n",
    "\n",
    "space = {\n",
    "    'n_estimators': hp.choice('n_estimators', range(1, 500)),\n",
    "    'max_depth': hp.choice('max_depth', range(3, 100)),\n",
    "    'learning_rate': hp.quniform('learning_rate', 0.01, 0.1, 0.01),\n",
    "    'silent': 1,\n",
    "    'objective': 'multi:softprob',\n",
    "    'nthread': -1, # set -1 to use all available scores\n",
    "    'gamma': hp.quniform('gamma', 0.1, 2, 0.01),\n",
    "    'min_child_weight': hp.quniform('min_child_weight', 0, 5, 0.5),\n",
    "    'subsample': hp.quniform('subsample', 0.1, 0.9, 0.05),\n",
    "    'colsample_bytree': hp.quniform('colsample_bytree', 0.1, 0.9, 0.05),\n",
    "    'colsample_bylevel': hp.quniform('colsample_bylevel', 0.1, 0.9, 0.05),\n",
    "    #'colsample_bynode': hp.quniform('colsample_bynode', 0.1, 0.9, 0.05),\n",
    "    'reg_alpha' : hp.quniform('reg_alpha', 0, 1, 0.00001), # this parameter is for L1 regulation\n",
    "    'reg_lambda' : hp.quniform('reg_lambda', 0, 20, 0.1)\n",
    "}\n",
    "\n",
    "def objective(space):\n",
    "    X_train, X_val, y_train, y_val = train_test_split(X,y,test_size=0.25,random_state=0)\n",
    "    \n",
    "    le = preprocessing.LabelEncoder()\n",
    "    y_train = le.fit_transform(y_train)\n",
    "    y_val = le.transform(y_val)\n",
    "\n",
    "    model = xgb.XGBClassifier(\n",
    "            colsample_bylevel=space['colsample_bylevel'],\n",
    "            colsample_bytree=space['colsample_bytree'],\n",
    "            #colsample_bynode=space['colsample_bynode'],\n",
    "            gamma=space['gamma'],\n",
    "            learning_rate=space['learning_rate'],\n",
    "            max_depth=space['max_depth'],\n",
    "            min_child_weight=space['min_child_weight'],\n",
    "            n_estimators=space['n_estimators'],\n",
    "            nthread=space['nthread'],\n",
    "            objective=space['objective'],\n",
    "            random_state=0,\n",
    "            reg_alpha=space['reg_alpha'], \n",
    "            reg_lambda=space['reg_lambda'],\n",
    "            scale_pos_weight=1, \n",
    "            seed=None,\n",
    "            silent=space['silent'],\n",
    "            subsample=space['subsample'],\n",
    "            verbosity=1\n",
    "    )\n",
    "    model.fit(X_train, y_train)\n",
    "    return mean_squared_error(y_val,model.predict(X_val))\n",
    "\n",
    "\n",
    "\n",
    "best = fmin(\n",
    "        fn=objective,\n",
    "        space=space,\n",
    "        algo=tpe.suggest,\n",
    "        max_evals=100\n",
    ")\n",
    "print(best)"
   ]
  },
  {
   "cell_type": "code",
   "execution_count": 9,
   "metadata": {},
   "outputs": [
    {
     "name": "stdout",
     "output_type": "stream",
     "text": [
      "(47802, 629) (47802, 1)\n"
     ]
    }
   ],
   "source": [
    "best = {'colsample_bylevel':0.7000000000000001,\n",
    "        'colsample_bytree':0.8,\n",
    "        'gamma':.033,\n",
    "        'learning_rate':0.05,\n",
    "        'max_depth':68,\n",
    "        'min_child_weight':4.0,\n",
    "        'n_estimators':393,\n",
    "        'reg_alpha':0.45844,\n",
    "        'reg_lambda':17.7,\n",
    "        'subsample':0.65    \n",
    "}\n",
    "\n",
    "X = all_df[all_df.columns[:-1]]\n",
    "y = all_df[RESPONSE]\n",
    "print(X.shape, y.shape)"
   ]
  },
  {
   "cell_type": "code",
   "execution_count": 13,
   "metadata": {},
   "outputs": [
    {
     "name": "stderr",
     "output_type": "stream",
     "text": [
      "C:\\Users\\Administrator\\Anaconda3\\lib\\site-packages\\sklearn\\preprocessing\\_label.py:251: DataConversionWarning: A column-vector y was passed when a 1d array was expected. Please change the shape of y to (n_samples, ), for example using ravel().\n",
      "  y = column_or_1d(y, warn=True)\n"
     ]
    }
   ],
   "source": [
    "best_model = xgb.XGBClassifier(\n",
    "            colsample_bylevel=best['colsample_bylevel'],\n",
    "            colsample_bytree=best['colsample_bytree'],\n",
    "            #colsample_bynode=best['colsample_bynode'],\n",
    "            gamma=best['gamma'],\n",
    "            learning_rate=best['learning_rate'],\n",
    "            max_depth=best['max_depth'],\n",
    "            min_child_weight=best['min_child_weight'],\n",
    "            n_estimators=best['n_estimators'],\n",
    "            random_state=0,\n",
    "            reg_alpha=best['reg_alpha'], \n",
    "            reg_lambda=best['reg_lambda'],\n",
    "            scale_pos_weight=1, \n",
    "            seed=None,\n",
    "            subsample=best['subsample'],\n",
    "            verbosity=1\n",
    ")\n",
    "\n",
    "X_train, X_val, y_train, y_val = train_test_split(X,y,test_size=0.25,random_state=0)\n",
    "\n",
    "le = preprocessing.LabelEncoder()\n",
    "y_train = le.fit_transform(y_train)\n",
    "y_val = le.transform(y_val)"
   ]
  },
  {
   "cell_type": "code",
   "execution_count": 14,
   "metadata": {},
   "outputs": [
    {
     "name": "stdout",
     "output_type": "stream",
     "text": [
      "Confusion Matrix :\n",
      "[[2842   12    0   10    9   11   92   11  257]\n",
      " [ 365   21    0   31    0    1   29    2  259]\n",
      " [   0    0   13   31    0    0    1    0    2]\n",
      " [  54    2    3  750    3    0   58    0  120]\n",
      " [ 393    2    0    5    4    2   25    3  234]\n",
      " [ 389    5    0   11    6    2   26    1  207]\n",
      " [ 225    1    0   44    0    0 2065    2  117]\n",
      " [ 340    1    0    5    5    2   24    1  218]\n",
      " [ 438   26    0   54   19   11   99   14 1936]]\n",
      "Accuracy Score : 0.6387749979081249\n",
      "Report : \n",
      "              precision    recall  f1-score   support\n",
      "\n",
      "           0       0.56      0.88      0.69      3244\n",
      "           1       0.30      0.03      0.05       708\n",
      "           2       0.81      0.28      0.41        47\n",
      "           3       0.80      0.76      0.78       990\n",
      "           4       0.09      0.01      0.01       668\n",
      "           5       0.07      0.00      0.01       647\n",
      "           6       0.85      0.84      0.85      2454\n",
      "           7       0.03      0.00      0.00       596\n",
      "           8       0.58      0.75      0.65      2597\n",
      "\n",
      "    accuracy                           0.64     11951\n",
      "   macro avg       0.45      0.39      0.38     11951\n",
      "weighted avg       0.55      0.64      0.57     11951\n",
      "\n"
     ]
    }
   ],
   "source": [
    "best_model.fit(X_train, y_train)\n",
    "y_pred = best_model.predict(X_val)\n",
    "actual = y_val\n",
    "predicted = y_pred\n",
    "results = confusion_matrix(actual, predicted) \n",
    "print('Confusion Matrix :')\n",
    "print(results) \n",
    "print('Accuracy Score :',f1_score(actual, predicted, average='micro'))\n",
    "print('Report : ')\n",
    "print(classification_report(actual, predicted))"
   ]
  },
  {
   "cell_type": "code",
   "execution_count": 16,
   "metadata": {},
   "outputs": [],
   "source": [
    "best_model.save_model('../models/best_xgb.pkl')"
   ]
  },
  {
   "cell_type": "markdown",
   "metadata": {},
   "source": [
    "### SVM WITHOUT OVERSAMPLING"
   ]
  },
  {
   "cell_type": "code",
   "execution_count": 18,
   "metadata": {},
   "outputs": [
    {
     "ename": "KeyboardInterrupt",
     "evalue": "",
     "output_type": "error",
     "traceback": [
      "\u001b[1;31m---------------------------------------------------------------------------\u001b[0m",
      "\u001b[1;31mKeyboardInterrupt\u001b[0m                         Traceback (most recent call last)",
      "\u001b[1;32m<ipython-input-18-fa63c02d76ad>\u001b[0m in \u001b[0;36m<module>\u001b[1;34m\u001b[0m\n\u001b[0;32m      9\u001b[0m \u001b[0my_val\u001b[0m \u001b[1;33m=\u001b[0m \u001b[0mle\u001b[0m\u001b[1;33m.\u001b[0m\u001b[0mtransform\u001b[0m\u001b[1;33m(\u001b[0m\u001b[0my_val\u001b[0m\u001b[1;33m)\u001b[0m\u001b[1;33m\u001b[0m\u001b[1;33m\u001b[0m\u001b[0m\n\u001b[0;32m     10\u001b[0m \u001b[1;33m\u001b[0m\u001b[0m\n\u001b[1;32m---> 11\u001b[1;33m \u001b[0msvclassifier\u001b[0m\u001b[1;33m.\u001b[0m\u001b[0mfit\u001b[0m\u001b[1;33m(\u001b[0m\u001b[0mX_train\u001b[0m\u001b[1;33m,\u001b[0m \u001b[0my_train\u001b[0m\u001b[1;33m)\u001b[0m\u001b[1;33m\u001b[0m\u001b[1;33m\u001b[0m\u001b[0m\n\u001b[0m\u001b[0;32m     12\u001b[0m \u001b[0my_pred\u001b[0m \u001b[1;33m=\u001b[0m \u001b[0msvclassifier\u001b[0m\u001b[1;33m.\u001b[0m\u001b[0mpredict\u001b[0m\u001b[1;33m(\u001b[0m\u001b[0mX_val\u001b[0m\u001b[1;33m)\u001b[0m\u001b[1;33m\u001b[0m\u001b[1;33m\u001b[0m\u001b[0m\n\u001b[0;32m     13\u001b[0m \u001b[0mactual\u001b[0m \u001b[1;33m=\u001b[0m \u001b[0my_val\u001b[0m\u001b[1;33m\u001b[0m\u001b[1;33m\u001b[0m\u001b[0m\n",
      "\u001b[1;32m~\\Anaconda3\\lib\\site-packages\\sklearn\\svm\\_base.py\u001b[0m in \u001b[0;36mfit\u001b[1;34m(self, X, y, sample_weight)\u001b[0m\n\u001b[0;32m    197\u001b[0m \u001b[1;33m\u001b[0m\u001b[0m\n\u001b[0;32m    198\u001b[0m         \u001b[0mseed\u001b[0m \u001b[1;33m=\u001b[0m \u001b[0mrnd\u001b[0m\u001b[1;33m.\u001b[0m\u001b[0mrandint\u001b[0m\u001b[1;33m(\u001b[0m\u001b[0mnp\u001b[0m\u001b[1;33m.\u001b[0m\u001b[0miinfo\u001b[0m\u001b[1;33m(\u001b[0m\u001b[1;34m'i'\u001b[0m\u001b[1;33m)\u001b[0m\u001b[1;33m.\u001b[0m\u001b[0mmax\u001b[0m\u001b[1;33m)\u001b[0m\u001b[1;33m\u001b[0m\u001b[1;33m\u001b[0m\u001b[0m\n\u001b[1;32m--> 199\u001b[1;33m         \u001b[0mfit\u001b[0m\u001b[1;33m(\u001b[0m\u001b[0mX\u001b[0m\u001b[1;33m,\u001b[0m \u001b[0my\u001b[0m\u001b[1;33m,\u001b[0m \u001b[0msample_weight\u001b[0m\u001b[1;33m,\u001b[0m \u001b[0msolver_type\u001b[0m\u001b[1;33m,\u001b[0m \u001b[0mkernel\u001b[0m\u001b[1;33m,\u001b[0m \u001b[0mrandom_seed\u001b[0m\u001b[1;33m=\u001b[0m\u001b[0mseed\u001b[0m\u001b[1;33m)\u001b[0m\u001b[1;33m\u001b[0m\u001b[1;33m\u001b[0m\u001b[0m\n\u001b[0m\u001b[0;32m    200\u001b[0m         \u001b[1;31m# see comment on the other call to np.iinfo in this file\u001b[0m\u001b[1;33m\u001b[0m\u001b[1;33m\u001b[0m\u001b[1;33m\u001b[0m\u001b[0m\n\u001b[0;32m    201\u001b[0m \u001b[1;33m\u001b[0m\u001b[0m\n",
      "\u001b[1;32m~\\Anaconda3\\lib\\site-packages\\sklearn\\svm\\_base.py\u001b[0m in \u001b[0;36m_dense_fit\u001b[1;34m(self, X, y, sample_weight, solver_type, kernel, random_seed)\u001b[0m\n\u001b[0;32m    256\u001b[0m                 \u001b[0mcache_size\u001b[0m\u001b[1;33m=\u001b[0m\u001b[0mself\u001b[0m\u001b[1;33m.\u001b[0m\u001b[0mcache_size\u001b[0m\u001b[1;33m,\u001b[0m \u001b[0mcoef0\u001b[0m\u001b[1;33m=\u001b[0m\u001b[0mself\u001b[0m\u001b[1;33m.\u001b[0m\u001b[0mcoef0\u001b[0m\u001b[1;33m,\u001b[0m\u001b[1;33m\u001b[0m\u001b[1;33m\u001b[0m\u001b[0m\n\u001b[0;32m    257\u001b[0m                 \u001b[0mgamma\u001b[0m\u001b[1;33m=\u001b[0m\u001b[0mself\u001b[0m\u001b[1;33m.\u001b[0m\u001b[0m_gamma\u001b[0m\u001b[1;33m,\u001b[0m \u001b[0mepsilon\u001b[0m\u001b[1;33m=\u001b[0m\u001b[0mself\u001b[0m\u001b[1;33m.\u001b[0m\u001b[0mepsilon\u001b[0m\u001b[1;33m,\u001b[0m\u001b[1;33m\u001b[0m\u001b[1;33m\u001b[0m\u001b[0m\n\u001b[1;32m--> 258\u001b[1;33m                 max_iter=self.max_iter, random_seed=random_seed)\n\u001b[0m\u001b[0;32m    259\u001b[0m \u001b[1;33m\u001b[0m\u001b[0m\n\u001b[0;32m    260\u001b[0m         \u001b[0mself\u001b[0m\u001b[1;33m.\u001b[0m\u001b[0m_warn_from_fit_status\u001b[0m\u001b[1;33m(\u001b[0m\u001b[1;33m)\u001b[0m\u001b[1;33m\u001b[0m\u001b[1;33m\u001b[0m\u001b[0m\n",
      "\u001b[1;31mKeyboardInterrupt\u001b[0m: "
     ]
    }
   ],
   "source": [
    "from sklearn.svm import SVC\n",
    "svclassifier = SVC(kernel='rbf',\n",
    "                  gamma=0.01)\n",
    "\n",
    "X_train, X_val, y_train, y_val = train_test_split(X,y,test_size=0.25,random_state=0)\n",
    "\n",
    "le = preprocessing.LabelEncoder()\n",
    "y_train = le.fit_transform(y_train)\n",
    "y_val = le.transform(y_val)\n",
    "\n",
    "svclassifier.fit(X_train, y_train)\n",
    "y_pred = svclassifier.predict(X_val)\n",
    "actual = y_val\n",
    "predicted = y_pred\n",
    "results = confusion_matrix(actual, predicted) \n",
    "print('Confusion Matrix :')\n",
    "print(results) \n",
    "print('Accuracy Score :',f1_score(actual, predicted, average='micro'))\n",
    "print('Report : ')\n",
    "print(classification_report(actual, predicted))"
   ]
  },
  {
   "cell_type": "code",
   "execution_count": null,
   "metadata": {},
   "outputs": [],
   "source": []
  }
 ],
 "metadata": {
  "kernelspec": {
   "display_name": "Python 3",
   "language": "python",
   "name": "python3"
  },
  "language_info": {
   "codemirror_mode": {
    "name": "ipython",
    "version": 3
   },
   "file_extension": ".py",
   "mimetype": "text/x-python",
   "name": "python",
   "nbconvert_exporter": "python",
   "pygments_lexer": "ipython3",
   "version": "3.7.4"
  }
 },
 "nbformat": 4,
 "nbformat_minor": 2
}
